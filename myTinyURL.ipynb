{
 "cells": [
  {
   "cell_type": "code",
   "execution_count": 1,
   "metadata": {},
   "outputs": [],
   "source": [
    "import string\n",
    "import random\n",
    "\n",
    "class MyTinyURL:\n",
    "    \n",
    "    # initialize the main dictionary\n",
    "    def __init__(self):\n",
    "        self.d = dict();\n",
    "    \n",
    "    def getShortenedURL(self, fullURL):\n",
    "        \"\"\"Function to convert a long URL to a shorter version of the URL \n",
    "        I/O example:\n",
    "            Input: https://mankato.mnsu.edu/about-the-university/news-and-events/ms-in-data-science/\n",
    "            Output: https://myTinyURL.com/zwujks\n",
    "            \n",
    "        Args:\n",
    "            String: a string of full URL that will be converted\n",
    "        Returns:\n",
    "            String: a converted string of shortened URL\n",
    "        \"\"\"\n",
    "        \n",
    "        # generate random value from 6-10 for the combinations of strings \n",
    "        l = random.randint(6,10)\n",
    "        \n",
    "        # generate random characters and numbers into a string of length l\n",
    "        shortURL = ''.join(random.choice(string.ascii_uppercase+string.ascii_lowercase+string.digits) for i in range(l))\n",
    "        \n",
    "        # check if this string is already exists in the dictionary\n",
    "        if shortURL in self.d:\n",
    "            return getShortenedURL(fullURL)\n",
    "        else:\n",
    "            self.d[shortURL] = fullURL\n",
    "            \n",
    "        output = 'https://www.myTinyURL.com/'+shortURL\n",
    "        return output\n",
    "        \n",
    "        \n",
    "    def getFullURL(self, shortenedURL):\n",
    "        \"\"\"Function to convert a shortened URL to its original version of the URL \n",
    "        I/O example:\n",
    "            Input: https://myTinyURL.com/zwujks\n",
    "            Output: https://mankato.mnsu.edu/about-the-university/news-and-events/ms-in-data-science/\n",
    "            \n",
    "        Args:\n",
    "            String: a string of shortened URL\n",
    "        Returns:\n",
    "            String: a converted string of full URL that will be converted\n",
    "        \"\"\"\n",
    "        \n",
    "        full = shortenedURL[26:]\n",
    "        output = ''\n",
    "        \n",
    "        if full in self.d:\n",
    "            output = self.d[full]\n",
    "            return output\n",
    "        else:\n",
    "            output = 'None found!'\n",
    "            return output"
   ]
  },
  {
   "cell_type": "code",
   "execution_count": 2,
   "metadata": {},
   "outputs": [
    {
     "data": {
      "text/plain": [
       "'https://www.myTinyURL.com/fKxsuIYwm'"
      ]
     },
     "execution_count": 2,
     "metadata": {},
     "output_type": "execute_result"
    }
   ],
   "source": [
    "a = MyTinyURL()\n",
    "a.getShortenedURL('https://www.facebook.com')"
   ]
  },
  {
   "cell_type": "code",
   "execution_count": 3,
   "metadata": {},
   "outputs": [
    {
     "data": {
      "text/plain": [
       "'None found!'"
      ]
     },
     "execution_count": 3,
     "metadata": {},
     "output_type": "execute_result"
    }
   ],
   "source": [
    "a.getFullURL('https://www.myTinyURL.com/Oqd40Z')"
   ]
  },
  {
   "cell_type": "code",
   "execution_count": null,
   "metadata": {},
   "outputs": [],
   "source": []
  }
 ],
 "metadata": {
  "kernelspec": {
   "display_name": "wb_python_37",
   "language": "python",
   "name": "wb_python_37"
  },
  "language_info": {
   "codemirror_mode": {
    "name": "ipython",
    "version": 3
   },
   "file_extension": ".py",
   "mimetype": "text/x-python",
   "name": "python",
   "nbconvert_exporter": "python",
   "pygments_lexer": "ipython3",
   "version": "3.7.7"
  }
 },
 "nbformat": 4,
 "nbformat_minor": 4
}
